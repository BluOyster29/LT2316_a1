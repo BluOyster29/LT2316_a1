{
 "cells": [
  {
   "cell_type": "code",
   "execution_count": null,
   "metadata": {},
   "outputs": [],
   "source": [
    "import get_data, pre_process, config, GRUNetwork\n",
    "import stats, train, test\n",
    "\n",
    "def get_args():\n",
    "    parser = argparse.ArgumentParser(\n",
    "        description=\"\")\n",
    "    parser.add_argument(\"-P\", \"--preset\", dest='preset', type=str,\n",
    "                        help=\"Choose to use default language set or your own\", default=\"y\")\n",
    "    parser.add_argument(\"-B\", \"--batch_size\", dest='batch_size', type=int, default=1,\n",
    "                        help=\"Define the batch size for training\")\n",
    "    \n",
    "    args = parser.parse_args()\n",
    "    return args\n",
    "\n",
    "if __name__ == '__main__':\n",
    "    args = get_args()\n",
    "    get_data(args)\n",
    "    pre_process(args)\n",
    "    \n",
    "    "
   ]
  }
 ],
 "metadata": {
  "kernelspec": {
   "display_name": "Python 3",
   "language": "python",
   "name": "python3"
  },
  "language_info": {
   "codemirror_mode": {
    "name": "ipython",
    "version": 3
   },
   "file_extension": ".py",
   "mimetype": "text/x-python",
   "name": "python",
   "nbconvert_exporter": "python",
   "pygments_lexer": "ipython3",
   "version": "3.7.4"
  }
 },
 "nbformat": 4,
 "nbformat_minor": 2
}
