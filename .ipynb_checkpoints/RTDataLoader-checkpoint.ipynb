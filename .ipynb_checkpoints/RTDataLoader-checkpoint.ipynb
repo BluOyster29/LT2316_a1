{
 "cells": [
  {
   "cell_type": "code",
   "execution_count": 3,
   "metadata": {},
   "outputs": [],
   "source": [
    "import  numpy as np, pandas as pd, subprocess, os, torch, pickle, csv\n",
    "from nltk.tokenize import word_tokenize as wt\n",
    "from torch import nn\n",
    "from torch.optim import Adam\n",
    "import torch.optim as optim\n",
    "from torch.utils.data import DataLoader, Dataset\n",
    "from torchtext.data import Field, Iterator, TabularDataset, BucketIterator\n",
    "from torch.nn.utils.rnn import pad_packed_sequence, pack_padded_sequence\n",
    "import torch.nn.functional as F\n",
    "import random\n",
    "from tqdm import tqdm"
   ]
  },
  {
   "cell_type": "code",
   "execution_count": 4,
   "metadata": {
    "code_folding": [
     0
    ]
   },
   "outputs": [],
   "source": [
    "def get_languages(csv_file, preset):\n",
    "    with open(csv_file, 'r') as csv_File: #opens csv containing language codes and their names\n",
    "        reader = csv.reader(csv_File)\n",
    "        language_table = {row[0].split(';')[1] : row[0].split(';')[0] for row in reader} #dictionary mapping code to name\n",
    "    if preset == 'y':\n",
    "        #Preset language codes to be used in model, chosen at random\n",
    "        language_codes = [\"srd\", \"krc\", \"nob\", \"pnb\",\n",
    "                          \"mai\", \"eng\", \"be-tarask\",\n",
    "                          \"xho\", \"tet\", \"tha\"]\n",
    "        language_names = [(key, value) for key, value in language_table.items() if value in language_codes]\n",
    "        return language_names\n",
    "    elif preset == 'n':\n",
    "        '''\n",
    "        experimental function for allowing user to choose which languages to use\n",
    "        '''\n",
    "        languages = []\n",
    "        while len(languages) != 10:\n",
    "            language = input(\"Enter language \").capitalize()\n",
    "            #print(language)\n",
    "            if language in languages:\n",
    "                print(\"You've already said that one! \")\n",
    "            elif language in language_table:\n",
    "                languages.append(language)\n",
    "                print(languages)\n",
    "            else:\n",
    "                print('Language not recognised. Please refer to language labels')\n",
    "                print(languages)\n",
    "                continue\n",
    "        language_codes = [language_table[i] for i in language_table if i in languages] #collects languages from predetermined set,\n",
    "        language_names =  [(key, value) for key, value in language_table.items() if value in language_codes] #dictionary mapping code to name\n",
    "        return language_names\n",
    "    else:\n",
    "        print(\"has to be y or n dummy\") #in case of user error"
   ]
  },
  {
   "cell_type": "code",
   "execution_count": 5,
   "metadata": {
    "code_folding": [
     0
    ]
   },
   "outputs": [],
   "source": [
    "def gen_data(training_file, training_labels, language_codes, training):\n",
    "    '''\n",
    "    Function generates the set based on pre defined language codes and creates various\n",
    "    attributes to the object\n",
    "    '''\n",
    "    if training == True:\n",
    "        data = [i.split('\\n')[:-1] for i in open(training_file, 'r')] #opens text file and splits on new line\n",
    "        labels = [i.split('\\n')[:-1] for i in open(training_labels, 'r')] #opens label file and splits on white space\n",
    "        things = list(zip([i[0] for i in data], [i[0] for i in labels])) #zips sentences with corrosponding language label\n",
    "        sets = [(i[0],i[1]) for i in things] #this might actually do the same thing as the above not sure\n",
    "        \n",
    "        x = [i[0][:100] for i in sets if i[1] in language_codes] #Matrix of sentences to be used in the model\n",
    "        y = [i[1] for i in sets if i[1] in language_codes] #labels for each of the sentences\n",
    "        raw_data = ''.join([i for i in x]) #concatenation of all characters in the training set\n",
    "        vocab = {char: ord(char) for char in set(raw_data)} #dictionary mapping character to ord(integer)\n",
    "        int2char = {num : char for char, num in vocab.items()} #dictionary mapping integer to character\n",
    "        return x, y, vocab, int2char\n",
    "    else:\n",
    "        data = [i.split('\\n')[:-1] for i in open(training_file, 'r')] #opens text file and splits on new line\n",
    "        labels = [i.split('\\n')[:-1] for i in open(training_labels, 'r')] #opens label file and splits on white space\n",
    "        things = list(zip([i[0] for i in data], [i[0] for i in labels])) #zips sentences with corrosponding language label\n",
    "        sets = [(i[0],i[1]) for i in things] #this might actually do the same thing as the above not sure\n",
    "        x = [i[0][:100] for i in sets if i[1] in language_codes] #Matrix of sentences to be used in the model\n",
    "        y = [i[1] for i in sets if i[1] in language_codes] #labels for each of the sentences\n",
    "        return x, y\n",
    "        "
   ]
  },
  {
   "cell_type": "code",
   "execution_count": 6,
   "metadata": {},
   "outputs": [],
   "source": [
    "language_names = get_languages('./data/raw/labels.csv', 'y')"
   ]
  },
  {
   "cell_type": "code",
   "execution_count": 7,
   "metadata": {},
   "outputs": [],
   "source": [
    "language_codes = [i[1] for i in language_names]"
   ]
  },
  {
   "cell_type": "code",
   "execution_count": 8,
   "metadata": {},
   "outputs": [],
   "source": [
    "x_train = 'data/raw/x_train.txt'\n",
    "y_train = 'data/raw/y_train.txt'"
   ]
  },
  {
   "cell_type": "code",
   "execution_count": 9,
   "metadata": {},
   "outputs": [],
   "source": [
    "x_train, y_train, vocab, int2char = gen_data(x_train, y_train, language_codes, training=True)"
   ]
  },
  {
   "cell_type": "code",
   "execution_count": 10,
   "metadata": {},
   "outputs": [],
   "source": [
    "x_test = 'data/raw/x_test.txt'\n",
    "y_test = 'data/raw/y_test.txt'"
   ]
  },
  {
   "cell_type": "code",
   "execution_count": 11,
   "metadata": {},
   "outputs": [],
   "source": [
    "x_test, y_test = gen_data(x_test, y_test, language_codes, training=False)"
   ]
  },
  {
   "cell_type": "code",
   "execution_count": 12,
   "metadata": {},
   "outputs": [],
   "source": [
    "int2lang = dict(enumerate(language_codes))"
   ]
  },
  {
   "cell_type": "code",
   "execution_count": null,
   "metadata": {},
   "outputs": [],
   "source": []
  },
  {
   "cell_type": "code",
   "execution_count": 13,
   "metadata": {},
   "outputs": [],
   "source": [
    "lang2int = {num : lang for lang, num in int2lang.items()}"
   ]
  },
  {
   "cell_type": "code",
   "execution_count": 14,
   "metadata": {},
   "outputs": [
    {
     "data": {
      "text/plain": [
       "{0: 'eng',\n",
       " 1: 'be-tarask',\n",
       " 2: 'krc',\n",
       " 3: 'mai',\n",
       " 4: 'nob',\n",
       " 5: 'pnb',\n",
       " 6: 'srd',\n",
       " 7: 'tet',\n",
       " 8: 'tha',\n",
       " 9: 'xho'}"
      ]
     },
     "execution_count": 14,
     "metadata": {},
     "output_type": "execute_result"
    }
   ],
   "source": [
    "int2lang"
   ]
  },
  {
   "cell_type": "code",
   "execution_count": 15,
   "metadata": {},
   "outputs": [],
   "source": [
    "def build_vocab(x_train):\n",
    "    total_data = ''.join(x_train)\n",
    "    int2char = dict(enumerate(set(total_data)))\n",
    "    char2int = {char : num for num, char in int2char.items() }\n",
    "    #char2int['<niv>'] = max(char2int.values()) +1\n",
    "    return char2int\n",
    "\n",
    "vocab = build_vocab(x_train)"
   ]
  },
  {
   "cell_type": "code",
   "execution_count": null,
   "metadata": {},
   "outputs": [],
   "source": []
  },
  {
   "cell_type": "code",
   "execution_count": 16,
   "metadata": {},
   "outputs": [],
   "source": [
    "def output_vocab(vocab):\n",
    "    directory = 'vocab/'\n",
    "    if os.path.exists(directory) == False:\n",
    "        os.mkdir(directory)\n",
    "        \n",
    "        \n",
    "    with open('{}vocab.pkl'.format(directory), 'wb') as file:\n",
    "        pickle.dump(vocab, file)\n",
    "        file.close()\n",
    "    "
   ]
  },
  {
   "cell_type": "code",
   "execution_count": 17,
   "metadata": {},
   "outputs": [],
   "source": [
    "output_vocab(vocab)"
   ]
  },
  {
   "cell_type": "code",
   "execution_count": 18,
   "metadata": {},
   "outputs": [],
   "source": [
    "from torch.nn.utils.rnn import pad_sequence"
   ]
  },
  {
   "cell_type": "code",
   "execution_count": 84,
   "metadata": {},
   "outputs": [],
   "source": [
    "def build_data(x,y, lang2int,vocab):\n",
    "    labels = []\n",
    "    vectors = []\n",
    "    sets = zip(x,y)\n",
    "    for samples in sets:\n",
    "        \n",
    "        sample = [i for i in samples[0]]\n",
    "        label = samples[1]\n",
    "        \n",
    "        #print(label)\n",
    "        count = 100\n",
    "        while count != 0:\n",
    "            #x = [(i,int2label[samples[1]]) for i in samples[0]]\n",
    "            vector = []\n",
    "            encoded = []\n",
    "            for i in sample:\n",
    "                if i in vocab:\n",
    "                    encoded.append(vocab[i])\n",
    "                else:\n",
    "                    encoded.append(random.randint(0,len(vocab)))\n",
    "                \n",
    "            for i in range(1,101):\n",
    "                vectors.append(torch.LongTensor(encoded[:i])) #, int(lang2int[label])))\n",
    "                labels.append(lang2int[label])\n",
    "                count -=1\n",
    "            #vectors += vector\n",
    "            #label_matrix += labels\n",
    "    return pad_sequence(vectors, batch_first=True, padding_value=0), labels\n",
    "\n"
   ]
  },
  {
   "cell_type": "code",
   "execution_count": null,
   "metadata": {},
   "outputs": [],
   "source": []
  },
  {
   "cell_type": "code",
   "execution_count": 40,
   "metadata": {},
   "outputs": [],
   "source": [
    "def build_data(x,y, lang2int,vocab):\n",
    "    labels = []\n",
    "    vectors = []\n",
    "    sets = zip(x,y)\n",
    "    examples = []\n",
    "    for samples in sets:\n",
    "        \n",
    "        sample = [i for i in samples[0]]\n",
    "        label = samples[1]\n",
    "        example = [[]]\n",
    "        for i in range(len(sample)):\n",
    "            for x in sample[:i]:\n",
    "                if x in vocab:\n",
    "                    example.append(torch.LongTensor([vocab[x]]))\n",
    "                else:\n",
    "                    example.append(torch.LongTensor(random.randint(0,len(vocab))))\n",
    "                                                    \n",
    "            #example.append(torch.LongTensor([vocab[i] for i in sample[:i] if i in vocab else]))\n",
    "        \n",
    "        vectors.append((pad_sequence(example[2:], batch_first=True, padding_value=0), lang2int[label]))\n",
    "        #print(vectors)\n",
    "    return vectors\n",
    "    \n",
    "   \n",
    "    \n",
    "    \n",
    "    "
   ]
  },
  {
   "cell_type": "code",
   "execution_count": 85,
   "metadata": {},
   "outputs": [],
   "source": [
    "train_data, train_labels = build_data(x_train, y_train, lang2int, vocab)"
   ]
  },
  {
   "cell_type": "code",
   "execution_count": null,
   "metadata": {},
   "outputs": [],
   "source": [
    "train_data"
   ]
  },
  {
   "cell_type": "code",
   "execution_count": null,
   "metadata": {},
   "outputs": [],
   "source": []
  },
  {
   "cell_type": "code",
   "execution_count": 86,
   "metadata": {},
   "outputs": [],
   "source": [
    "test_data, test_labels = build_data(x_test, y_test, lang2int, vocab)"
   ]
  },
  {
   "cell_type": "code",
   "execution_count": null,
   "metadata": {},
   "outputs": [],
   "source": []
  },
  {
   "cell_type": "code",
   "execution_count": null,
   "metadata": {},
   "outputs": [],
   "source": []
  },
  {
   "cell_type": "code",
   "execution_count": 87,
   "metadata": {},
   "outputs": [],
   "source": [
    "from torch.utils.data import Dataset"
   ]
  },
  {
   "cell_type": "code",
   "execution_count": 88,
   "metadata": {},
   "outputs": [],
   "source": [
    "class RTDataset(Dataset):\n",
    "    def __init__(self, train_x, train_y):\n",
    "        self.train_x = train_x\n",
    "        self.train_y = train_y\n",
    "        \n",
    "    def __getitem__(self, index):\n",
    "        return (self.train_x[index], self.train_y[index])\n",
    "    \n",
    "    def __len__(self):\n",
    "        return len(self.train_x)\n",
    "        \n",
    "        "
   ]
  },
  {
   "cell_type": "code",
   "execution_count": 89,
   "metadata": {},
   "outputs": [],
   "source": [
    "train_data_set = RTDataset(train_data, train_labels)"
   ]
  },
  {
   "cell_type": "code",
   "execution_count": 90,
   "metadata": {},
   "outputs": [],
   "source": [
    "test_data_set = RTDataset(test_data, test_labels)"
   ]
  },
  {
   "cell_type": "code",
   "execution_count": null,
   "metadata": {},
   "outputs": [],
   "source": []
  },
  {
   "cell_type": "code",
   "execution_count": 106,
   "metadata": {},
   "outputs": [],
   "source": [
    "train_loader = DataLoader(train_data_set, batch_size=1, shuffle=True)"
   ]
  },
  {
   "cell_type": "code",
   "execution_count": 107,
   "metadata": {},
   "outputs": [],
   "source": [
    "test_loader = DataLoader(test_data_set, batch_size=1, shuffle=True)"
   ]
  },
  {
   "cell_type": "code",
   "execution_count": 108,
   "metadata": {},
   "outputs": [],
   "source": [
    "def save_dataloaders(train_loader, test_loader):\n",
    "    directory = 'dataloaders/'\n",
    "    if os.path.exists(directory) == False:\n",
    "        os.mkdir(directoy)\n",
    "        \n",
    "    train = 'training_loader.pkl'\n",
    "    test = 'testing_loader.pkl'\n",
    "    \n",
    "    for i in zip([train_loader, test_loader], [train,test]):\n",
    "        with open(directory+i[1], 'wb') as file:\n",
    "            pickle.dump(i[0],file)"
   ]
  },
  {
   "cell_type": "code",
   "execution_count": 109,
   "metadata": {},
   "outputs": [],
   "source": [
    "save_dataloaders(train_loader, test_loader)"
   ]
  },
  {
   "cell_type": "code",
   "execution_count": 110,
   "metadata": {},
   "outputs": [],
   "source": [
    "from torch import nn"
   ]
  },
  {
   "cell_type": "code",
   "execution_count": 111,
   "metadata": {},
   "outputs": [],
   "source": [
    "class GRUNet(nn.Module):\n",
    "    def __init__(self, vocab_size, seq_len, input_size, hidden_size, num_layers, output_size, dev, dropout=0.0):\n",
    "        super().__init__()\n",
    "        self.num_layers = num_layers\n",
    "        self.seq_len = seq_len\n",
    "        self.input_size = input_size\n",
    "        self.hidden_size = hidden_size\n",
    "        self.device = device\n",
    "        self.emb = nn.Embedding(vocab_size, input_size).to(device)\n",
    "        self.gru = nn.GRU(input_size, hidden_size,\n",
    "                          num_layers=self.num_layers, batch_first=True, dropout=dropout).to(device)\n",
    "        self.fc = nn.Linear(hidden_size * seq_len, output_size).to(device)\n",
    "\n",
    "    def forward(self, sequence, hidden_layer):\n",
    "        output = self.emb(sequence).to(device)\n",
    "        hidden_layer = hidden_layer.to(self.device)\n",
    "        output, hidden_layer = self.gru(output, hidden_layer)\n",
    "        output = output.contiguous().view(-1, self.hidden_size *\n",
    "                                          len(sequence[0]))\n",
    "        output = self.fc(output).to(device)\n",
    "\n",
    "        return output, hidden_layer\n",
    "    def init_hidden(self, batch_size):\n",
    "        return torch.zeros(self.num_layers, batch_size, self.hidden_size).float().to(self.device)\n"
   ]
  },
  {
   "cell_type": "code",
   "execution_count": 118,
   "metadata": {},
   "outputs": [],
   "source": [
    "vocab_size = len(vocab)\n",
    "sequence = 100\n",
    "batch_size = 100\n",
    "input_size = 100\n",
    "hidden_size = 256\n",
    "nr_layers = 2\n",
    "output_size = 10\n",
    "device = torch.device('cuda:0')\n",
    "batch_size = 1"
   ]
  },
  {
   "cell_type": "code",
   "execution_count": 119,
   "metadata": {},
   "outputs": [],
   "source": [
    "model = GRUNet(vocab_size, sequence, input_size, \n",
    "               hidden_size, nr_layers, output_size, device, dropout=0.0)\n",
    "    "
   ]
  },
  {
   "cell_type": "code",
   "execution_count": 120,
   "metadata": {},
   "outputs": [
    {
     "data": {
      "text/plain": [
       "GRUNet(\n",
       "  (emb): Embedding(879, 100)\n",
       "  (gru): GRU(100, 256, num_layers=2, batch_first=True)\n",
       "  (fc): Linear(in_features=25600, out_features=10, bias=True)\n",
       ")"
      ]
     },
     "execution_count": 120,
     "metadata": {},
     "output_type": "execute_result"
    }
   ],
   "source": [
    "model"
   ]
  },
  {
   "cell_type": "code",
   "execution_count": 121,
   "metadata": {},
   "outputs": [],
   "source": [
    "criterion = nn.CrossEntropyLoss()\n",
    "optimizer = Adam(model.parameters(), lr=0.001)"
   ]
  },
  {
   "cell_type": "code",
   "execution_count": 122,
   "metadata": {},
   "outputs": [],
   "source": [
    "%%capture\n",
    "from tqdm import tqdm_notebook as tqdm\n",
    "tqdm().pandas()"
   ]
  },
  {
   "cell_type": "code",
   "execution_count": 123,
   "metadata": {},
   "outputs": [
    {
     "name": "stdout",
     "output_type": "stream",
     "text": [
      "Training\n"
     ]
    },
    {
     "data": {
      "application/vnd.jupyter.widget-view+json": {
       "model_id": "09916c2d3606416ba79885f053802753",
       "version_major": 2,
       "version_minor": 0
      },
      "text/plain": [
       "HBox(children=(IntProgress(value=0, max=10), HTML(value='')))"
      ]
     },
     "metadata": {},
     "output_type": "display_data"
    },
    {
     "data": {
      "application/vnd.jupyter.widget-view+json": {
       "model_id": "080523b7124f47fca2a176ac9e160d4c",
       "version_major": 2,
       "version_minor": 0
      },
      "text/plain": [
       "HBox(children=(IntProgress(value=0, max=500000), HTML(value='')))"
      ]
     },
     "metadata": {},
     "output_type": "display_data"
    },
    {
     "name": "stdout",
     "output_type": "stream",
     "text": [
      "\n"
     ]
    },
    {
     "ename": "KeyboardInterrupt",
     "evalue": "",
     "output_type": "error",
     "traceback": [
      "\u001b[0;31m---------------------------------------------------------------------------\u001b[0m",
      "\u001b[0;31mKeyboardInterrupt\u001b[0m                         Traceback (most recent call last)",
      "\u001b[0;32m<ipython-input-123-374afa58476a>\u001b[0m in \u001b[0;36m<module>\u001b[0;34m\u001b[0m\n\u001b[1;32m     22\u001b[0m             \u001b[0mout\u001b[0m\u001b[0;34m,\u001b[0m \u001b[0mh\u001b[0m \u001b[0;34m=\u001b[0m \u001b[0mmodel\u001b[0m\u001b[0;34m(\u001b[0m\u001b[0mx\u001b[0m\u001b[0;34m,\u001b[0m \u001b[0mh\u001b[0m\u001b[0;34m)\u001b[0m\u001b[0;34m\u001b[0m\u001b[0;34m\u001b[0m\u001b[0m\n\u001b[1;32m     23\u001b[0m             \u001b[0mloss\u001b[0m \u001b[0;34m=\u001b[0m \u001b[0mcriterion\u001b[0m\u001b[0;34m(\u001b[0m\u001b[0mout\u001b[0m\u001b[0;34m,\u001b[0m \u001b[0my\u001b[0m\u001b[0;34m.\u001b[0m\u001b[0mlong\u001b[0m\u001b[0;34m(\u001b[0m\u001b[0;34m)\u001b[0m\u001b[0;34m)\u001b[0m\u001b[0;34m\u001b[0m\u001b[0;34m\u001b[0m\u001b[0m\n\u001b[0;32m---> 24\u001b[0;31m             \u001b[0mloss\u001b[0m\u001b[0;34m.\u001b[0m\u001b[0mbackward\u001b[0m\u001b[0;34m(\u001b[0m\u001b[0;34m)\u001b[0m\u001b[0;34m\u001b[0m\u001b[0;34m\u001b[0m\u001b[0m\n\u001b[0m\u001b[1;32m     25\u001b[0m             \u001b[0mepoch_loss\u001b[0m\u001b[0;34m.\u001b[0m\u001b[0mappend\u001b[0m\u001b[0;34m(\u001b[0m\u001b[0mloss\u001b[0m\u001b[0;34m.\u001b[0m\u001b[0mitem\u001b[0m\u001b[0;34m(\u001b[0m\u001b[0;34m)\u001b[0m\u001b[0;34m)\u001b[0m\u001b[0;34m\u001b[0m\u001b[0;34m\u001b[0m\u001b[0m\n\u001b[1;32m     26\u001b[0m             \u001b[0moptimizer\u001b[0m\u001b[0;34m.\u001b[0m\u001b[0mstep\u001b[0m\u001b[0;34m(\u001b[0m\u001b[0;34m)\u001b[0m\u001b[0;34m\u001b[0m\u001b[0;34m\u001b[0m\u001b[0m\n",
      "\u001b[0;32m/usr/local/lib64/python3.7/site-packages/torch/tensor.py\u001b[0m in \u001b[0;36mbackward\u001b[0;34m(self, gradient, retain_graph, create_graph)\u001b[0m\n\u001b[1;32m    116\u001b[0m                 \u001b[0mproducts\u001b[0m\u001b[0;34m.\u001b[0m \u001b[0mDefaults\u001b[0m \u001b[0mto\u001b[0m\u001b[0;31m \u001b[0m\u001b[0;31m`\u001b[0m\u001b[0;31m`\u001b[0m\u001b[0;32mFalse\u001b[0m\u001b[0;31m`\u001b[0m\u001b[0;31m`\u001b[0m\u001b[0;34m.\u001b[0m\u001b[0;34m\u001b[0m\u001b[0;34m\u001b[0m\u001b[0m\n\u001b[1;32m    117\u001b[0m         \"\"\"\n\u001b[0;32m--> 118\u001b[0;31m         \u001b[0mtorch\u001b[0m\u001b[0;34m.\u001b[0m\u001b[0mautograd\u001b[0m\u001b[0;34m.\u001b[0m\u001b[0mbackward\u001b[0m\u001b[0;34m(\u001b[0m\u001b[0mself\u001b[0m\u001b[0;34m,\u001b[0m \u001b[0mgradient\u001b[0m\u001b[0;34m,\u001b[0m \u001b[0mretain_graph\u001b[0m\u001b[0;34m,\u001b[0m \u001b[0mcreate_graph\u001b[0m\u001b[0;34m)\u001b[0m\u001b[0;34m\u001b[0m\u001b[0;34m\u001b[0m\u001b[0m\n\u001b[0m\u001b[1;32m    119\u001b[0m \u001b[0;34m\u001b[0m\u001b[0m\n\u001b[1;32m    120\u001b[0m     \u001b[0;32mdef\u001b[0m \u001b[0mregister_hook\u001b[0m\u001b[0;34m(\u001b[0m\u001b[0mself\u001b[0m\u001b[0;34m,\u001b[0m \u001b[0mhook\u001b[0m\u001b[0;34m)\u001b[0m\u001b[0;34m:\u001b[0m\u001b[0;34m\u001b[0m\u001b[0;34m\u001b[0m\u001b[0m\n",
      "\u001b[0;32m/usr/local/lib64/python3.7/site-packages/torch/autograd/__init__.py\u001b[0m in \u001b[0;36mbackward\u001b[0;34m(tensors, grad_tensors, retain_graph, create_graph, grad_variables)\u001b[0m\n\u001b[1;32m     91\u001b[0m     Variable._execution_engine.run_backward(\n\u001b[1;32m     92\u001b[0m         \u001b[0mtensors\u001b[0m\u001b[0;34m,\u001b[0m \u001b[0mgrad_tensors\u001b[0m\u001b[0;34m,\u001b[0m \u001b[0mretain_graph\u001b[0m\u001b[0;34m,\u001b[0m \u001b[0mcreate_graph\u001b[0m\u001b[0;34m,\u001b[0m\u001b[0;34m\u001b[0m\u001b[0;34m\u001b[0m\u001b[0m\n\u001b[0;32m---> 93\u001b[0;31m         allow_unreachable=True)  # allow_unreachable flag\n\u001b[0m\u001b[1;32m     94\u001b[0m \u001b[0;34m\u001b[0m\u001b[0m\n\u001b[1;32m     95\u001b[0m \u001b[0;34m\u001b[0m\u001b[0m\n",
      "\u001b[0;31mKeyboardInterrupt\u001b[0m: "
     ]
    }
   ],
   "source": [
    "model.train()\n",
    "model = model.to(device)\n",
    "print('Training')\n",
    "epoch_nr = 0\n",
    "EPOCH = list(range(10))\n",
    "tenp = len(train_loader) / 10\n",
    "for epoch in tqdm(EPOCH):\n",
    "    epoch_nr += 1\n",
    "    epoch_loss = []\n",
    "    h = model.init_hidden(batch_size)\n",
    "    count = 0\n",
    "\n",
    "    percent = 0\n",
    "    with tqdm(total=len(train_loader)) as pbar:\n",
    "        for (x,y) in train_loader:\n",
    "            percent += 10\n",
    "            count +=1 \n",
    "            x = x.to(device)\n",
    "            y = y.to(device)\n",
    "            optimizer.zero_grad()\n",
    "            h = h.data\n",
    "            out, h = model(x, h)\n",
    "            loss = criterion(out, y.long())\n",
    "            loss.backward()\n",
    "            epoch_loss.append(loss.item())\n",
    "            optimizer.step()\n",
    "            #print('Loss per timestep = {}'.format(loss.item()))\n",
    "            pbar.update(1)\n",
    "            \n",
    "            if count % tenp == 0:\n",
    "                print(\"Training {}% complete\".format(percent))\n",
    "                \n",
    "        avg_loss = sum(epoch_loss) / len(epoch_loss)\n",
    "        print(\"Average loss at epoch %d: %.7f\" % (epoch_nr, avg_loss)) \n",
    "    "
   ]
  },
  {
   "cell_type": "code",
   "execution_count": null,
   "metadata": {},
   "outputs": [],
   "source": [
    "trained_model = model"
   ]
  },
  {
   "cell_type": "code",
   "execution_count": null,
   "metadata": {},
   "outputs": [],
   "source": [
    "save_model(trained_model, 1)"
   ]
  },
  {
   "cell_type": "code",
   "execution_count": null,
   "metadata": {},
   "outputs": [],
   "source": []
  },
  {
   "cell_type": "code",
   "execution_count": 33,
   "metadata": {},
   "outputs": [],
   "source": [
    "import os, torch, pickle\n",
    "from torch.utils.data import DataLoader, Dataset\n",
    "from LangIdentDataset import RTDataset \n",
    "from GRUNetwork import GRUNet\n",
    "import torch"
   ]
  },
  {
   "cell_type": "code",
   "execution_count": 34,
   "metadata": {},
   "outputs": [],
   "source": [
    "def langencoder(language_codes):\n",
    "    one_hot_lang = {}\n",
    "    lang2int = {lang : (num) for num, lang in dict(enumerate(language_codes)).items()}\n",
    "  \n",
    "    return lang2int"
   ]
  },
  {
   "cell_type": "code",
   "execution_count": 35,
   "metadata": {},
   "outputs": [],
   "source": [
    "def save_model(model, model_nr):\n",
    "    directory = 'trained_models/'\n",
    "    if os.path.exists(directory) == False:\n",
    "        os.mkdir(directory)\n",
    "    \n",
    "    #model.save_state_dict(directory+'model_1.pt')\n",
    "    torch.save(model.state_dict(), '{}gru_model_nr{}.pt'.format(directory,model_nr))\n",
    "        \n",
    "def load_model(path):\n",
    "    model = os.listdir(path)[0]\n",
    "    print(model)\n",
    "    with open(path+model, 'rb') as input_model:\n",
    "        trained_model = torch.load(input_model)\n",
    "        \n",
    "        \n",
    "    return trained_model\n",
    "        "
   ]
  },
  {
   "cell_type": "code",
   "execution_count": 36,
   "metadata": {},
   "outputs": [],
   "source": [
    "def get_vocab(path):\n",
    "    with open(path+'vocab.pkl', 'rb')as file:\n",
    "        vocab = pickle.load(file)\n",
    "    return vocab"
   ]
  },
  {
   "cell_type": "code",
   "execution_count": 37,
   "metadata": {},
   "outputs": [],
   "source": [
    "lang2int = langencoder(language_codes)\n",
    "int2lang = {num : lang for lang, num in lang2int.items()}"
   ]
  },
  {
   "cell_type": "code",
   "execution_count": null,
   "metadata": {},
   "outputs": [],
   "source": []
  },
  {
   "cell_type": "code",
   "execution_count": 38,
   "metadata": {},
   "outputs": [],
   "source": [
    "vocab = get_vocab('vocab/')"
   ]
  },
  {
   "cell_type": "code",
   "execution_count": 39,
   "metadata": {},
   "outputs": [],
   "source": [
    "vocab_size = len(vocab)\n",
    "sequence = 100\n",
    "batch_size = 100\n",
    "input_size = 100\n",
    "hidden_size = 256\n",
    "nr_layers = 2\n",
    "output_size = 10\n",
    "device = torch.device('cuda:00')\n",
    "\n"
   ]
  },
  {
   "cell_type": "code",
   "execution_count": 40,
   "metadata": {},
   "outputs": [
    {
     "name": "stdout",
     "output_type": "stream",
     "text": [
      "gru_model_nr1.pt\n"
     ]
    }
   ],
   "source": [
    "dp = load_model('trained_models/')"
   ]
  },
  {
   "cell_type": "code",
   "execution_count": 41,
   "metadata": {},
   "outputs": [],
   "source": [
    "trained_model = GRUNet(vocab_size, sequence, input_size, \n",
    "               hidden_size, nr_layers, output_size, device, dropout=0.0)"
   ]
  },
  {
   "cell_type": "code",
   "execution_count": 42,
   "metadata": {},
   "outputs": [
    {
     "data": {
      "text/plain": [
       "<All keys matched successfully>"
      ]
     },
     "execution_count": 42,
     "metadata": {},
     "output_type": "execute_result"
    }
   ],
   "source": [
    "trained_model.load_state_dict(dp)"
   ]
  },
  {
   "cell_type": "code",
   "execution_count": 43,
   "metadata": {},
   "outputs": [],
   "source": [
    "%%capture\n",
    "from tqdm import tqdm_notebook as tqdm\n",
    "tqdm().pandas()"
   ]
  },
  {
   "cell_type": "code",
   "execution_count": null,
   "metadata": {},
   "outputs": [],
   "source": [
    "\n",
    "    "
   ]
  },
  {
   "cell_type": "code",
   "execution_count": null,
   "metadata": {},
   "outputs": [],
   "source": []
  },
  {
   "cell_type": "code",
   "execution_count": 44,
   "metadata": {},
   "outputs": [],
   "source": [
    "def get_test_loader(path):\n",
    "    loaders = os.listdir(path)\n",
    "    with open(path+loaders[0], 'rb') as file:\n",
    "        print(file)\n",
    "        training_loader = pickle.load(file)\n",
    "        \n",
    "    with open(path+loaders[1], 'rb') as file:\n",
    "        testing_loader = pickle.load(file)\n",
    "        \n",
    "    return training_loader, testing_loader"
   ]
  },
  {
   "cell_type": "code",
   "execution_count": 60,
   "metadata": {},
   "outputs": [
    {
     "name": "stdout",
     "output_type": "stream",
     "text": [
      "<_io.BufferedReader name='dataloaders/training_loader.pkl'>\n"
     ]
    }
   ],
   "source": [
    "training_loader, testing_loader = get_test_loader('dataloaders/')"
   ]
  },
  {
   "cell_type": "code",
   "execution_count": null,
   "metadata": {},
   "outputs": [],
   "source": []
  },
  {
   "cell_type": "code",
   "execution_count": 49,
   "metadata": {},
   "outputs": [],
   "source": [
    "lang_1  = language_names_dict[int2lang[0]]\n",
    "lang_2  = language_names_dict[int2lang[1]]\n",
    "lang_3  = language_names_dict[int2lang[2]]\n",
    "lang_4  = language_names_dict[int2lang[3]]\n",
    "lang_5  = language_names_dict[int2lang[4]]\n",
    "lang_6  = language_names_dict[int2lang[5]]\n",
    "lang_7  = language_names_dict[int2lang[6]]\n",
    "lang_8  = language_names_dict[int2lang[7]]\n",
    "lang_9  = language_names_dict[int2lang[8]]\n",
    "lang_10 = language_names_dict[int2lang[9]]\n"
   ]
  },
  {
   "cell_type": "code",
   "execution_count": 50,
   "metadata": {},
   "outputs": [],
   "source": [
    "total_guesses= 'total guesses'\n",
    "correct_guesses = 'correct guesses'\n",
    "language_guessed = 'language guessed'\n",
    "num_characters = 'number of characters'\n",
    "incorrect_guesses = 'incorrect guesses'\n",
    "total_stats = 'total stats'\n",
    "num_correct = 'num correct'\n",
    "num_incorrect = 'num incorrect'\n",
    "total_predictions = 'total predictions'\n",
    "accuracy = 'accuracy'"
   ]
  },
  {
   "cell_type": "code",
   "execution_count": 51,
   "metadata": {},
   "outputs": [],
   "source": [
    "language_stats = {lang_1  : {total_guesses : 0, correct_guesses : 0, incorrect_guesses : 0, language_guessed : [], num_characters : []},\n",
    "                  lang_2  : {total_guesses : 0, correct_guesses : 0, incorrect_guesses : 0, language_guessed : [], num_characters : []},\n",
    "                  lang_3  : {total_guesses : 0, correct_guesses : 0, incorrect_guesses : 0, language_guessed : [], num_characters : []},\n",
    "                  lang_4  : {total_guesses : 0, correct_guesses : 0, incorrect_guesses : 0, language_guessed : [], num_characters : []},\n",
    "                  lang_5  : {total_guesses : 0, correct_guesses : 0, incorrect_guesses : 0, language_guessed : [], num_characters : []},\n",
    "                  lang_6  : {total_guesses : 0, correct_guesses : 0, incorrect_guesses : 0, language_guessed : [], num_characters : []},\n",
    "                  lang_7  : {total_guesses : 0, correct_guesses : 0, incorrect_guesses : 0, language_guessed : [], num_characters : []},\n",
    "                  lang_8  : {total_guesses : 0, correct_guesses : 0, incorrect_guesses : 0, language_guessed : [], num_characters : []},\n",
    "                  lang_9  : {total_guesses : 0, correct_guesses : 0, incorrect_guesses : 0, language_guessed : [], num_characters : []}, \n",
    "                  lang_10 : {total_guesses : 0, correct_guesses : 0, incorrect_guesses : 0, language_guessed : [], num_characters : []},\n",
    "                  total_stats : {num_correct : 0, num_incorrect : 0, total_predictions : 0, accuracy : 0}\n",
    "                 }"
   ]
  },
  {
   "cell_type": "code",
   "execution_count": null,
   "metadata": {},
   "outputs": [],
   "source": []
  },
  {
   "cell_type": "code",
   "execution_count": null,
   "metadata": {},
   "outputs": [],
   "source": []
  },
  {
   "cell_type": "code",
   "execution_count": 52,
   "metadata": {},
   "outputs": [],
   "source": [
    "def update_stats(language_stats,prediction, correct_language, int2lang, characters):\n",
    "    language_stats[total_stats][total_predictions] += 1\n",
    "    language_stats[language_names_dict[int2lang[correct_language]]][total_guesses] += 1\n",
    "    language_stats[language_names_dict[int2lang[correct_language]]][language_guessed].append(prediction)\n",
    "    if prediction == correct_language:\n",
    "        language_stats[language_names_dict[int2lang[correct_language]]][correct_guesses] += 1\n",
    "        language_stats[language_names_dict[int2lang[correct_language]]][num_characters].append(characters)\n",
    "        language_stats[total_stats][num_correct] += 1\n",
    "        print(characters)\n",
    "    elif prediction != correct_language:\n",
    "        language_stats[language_names_dict[int2lang[correct_language]]][incorrect_guesses] += 1\n",
    "        language_stats[total_stats][num_incorrect] += 1\n",
    "    \n",
    "    language_stats[total_stats][accuracy] = round(language_stats[total_stats][num_correct] / language_stats[total_stats][total_predictions] * 100, 2)\n",
    "    return language_stats\n",
    "                                     \n",
    "                                     \n",
    "    "
   ]
  },
  {
   "cell_type": "code",
   "execution_count": 81,
   "metadata": {},
   "outputs": [
    {
     "name": "stdout",
     "output_type": "stream",
     "text": [
      "10\n",
      "10\n",
      "10\n",
      "10\n",
      "10\n",
      "10\n",
      "10\n",
      "10\n",
      "10\n",
      "10\n",
      "10\n",
      "10\n",
      "10\n",
      "10\n",
      "10\n",
      "10\n",
      "10\n",
      "10\n",
      "10\n",
      "10\n",
      "10\n",
      "10\n",
      "10\n",
      "10\n",
      "10\n",
      "10\n",
      "10\n",
      "10\n",
      "10\n",
      "10\n",
      "10\n",
      "10\n",
      "10\n",
      "10\n",
      "10\n",
      "10\n",
      "10\n",
      "10\n",
      "10\n",
      "10\n",
      "10\n",
      "10\n",
      "10\n",
      "10\n",
      "10\n",
      "10\n",
      "10\n",
      "10\n",
      "10\n",
      "10\n",
      "10\n",
      "10\n",
      "10\n",
      "10\n",
      "10\n",
      "10\n",
      "10\n",
      "10\n",
      "10\n",
      "10\n",
      "10\n",
      "10\n",
      "10\n",
      "10\n",
      "10\n",
      "10\n",
      "10\n",
      "10\n",
      "10\n",
      "10\n",
      "10\n",
      "10\n",
      "10\n",
      "10\n",
      "10\n",
      "10\n",
      "10\n",
      "10\n",
      "10\n",
      "10\n",
      "10\n",
      "10\n",
      "10\n",
      "10\n",
      "10\n",
      "10\n",
      "10\n",
      "10\n",
      "10\n",
      "10\n",
      "10\n",
      "10\n",
      "10\n",
      "10\n",
      "10\n",
      "10\n",
      "10\n",
      "10\n",
      "10\n",
      "10\n",
      "10\n",
      "10\n",
      "10\n",
      "10\n",
      "10\n",
      "10\n",
      "10\n",
      "10\n",
      "10\n",
      "10\n",
      "10\n",
      "10\n",
      "10\n",
      "10\n",
      "10\n",
      "10\n",
      "10\n",
      "10\n",
      "10\n",
      "10\n",
      "10\n",
      "10\n",
      "10\n",
      "10\n",
      "10\n",
      "10\n",
      "10\n",
      "10\n",
      "10\n",
      "10\n",
      "10\n",
      "10\n",
      "10\n",
      "10\n",
      "10\n",
      "10\n",
      "10\n",
      "10\n",
      "10\n",
      "10\n",
      "10\n",
      "10\n",
      "10\n",
      "10\n",
      "10\n",
      "10\n",
      "10\n",
      "10\n",
      "10\n",
      "10\n",
      "10\n",
      "10\n",
      "10\n",
      "10\n",
      "10\n",
      "10\n",
      "10\n",
      "10\n",
      "10\n",
      "10\n",
      "10\n",
      "10\n",
      "10\n",
      "10\n",
      "10\n",
      "10\n",
      "10\n",
      "10\n",
      "10\n",
      "10\n",
      "10\n",
      "10\n",
      "10\n",
      "10\n",
      "10\n",
      "10\n",
      "10\n",
      "10\n",
      "10\n",
      "10\n",
      "10\n",
      "10\n",
      "10\n",
      "10\n",
      "10\n",
      "10\n",
      "10\n",
      "10\n",
      "10\n",
      "10\n",
      "10\n",
      "10\n",
      "10\n",
      "10\n",
      "10\n",
      "10\n",
      "10\n",
      "10\n",
      "10\n",
      "10\n",
      "10\n",
      "10\n",
      "10\n",
      "10\n",
      "10\n",
      "10\n",
      "10\n",
      "10\n",
      "10\n",
      "10\n",
      "10\n",
      "10\n",
      "10\n",
      "10\n",
      "10\n",
      "10\n",
      "10\n",
      "10\n",
      "10\n",
      "10\n",
      "10\n",
      "10\n",
      "10\n",
      "10\n",
      "10\n",
      "10\n",
      "10\n",
      "10\n",
      "10\n",
      "10\n",
      "10\n",
      "10\n",
      "10\n",
      "10\n",
      "10\n",
      "10\n",
      "10\n",
      "10\n",
      "10\n",
      "10\n",
      "10\n",
      "10\n",
      "10\n",
      "10\n",
      "10\n",
      "10\n",
      "10\n",
      "10\n",
      "10\n",
      "10\n",
      "10\n",
      "10\n",
      "10\n",
      "10\n",
      "10\n",
      "10\n",
      "10\n",
      "10\n",
      "10\n",
      "10\n",
      "10\n",
      "10\n",
      "10\n",
      "10\n",
      "10\n",
      "10\n",
      "10\n",
      "10\n",
      "10\n",
      "10\n",
      "10\n",
      "10\n",
      "10\n",
      "10\n",
      "10\n",
      "10\n",
      "10\n",
      "10\n",
      "10\n",
      "10\n",
      "10\n",
      "10\n",
      "10\n",
      "10\n",
      "10\n",
      "10\n",
      "10\n",
      "10\n",
      "10\n",
      "10\n",
      "10\n",
      "10\n",
      "10\n",
      "10\n",
      "10\n",
      "10\n",
      "10\n",
      "10\n",
      "10\n",
      "10\n",
      "10\n",
      "10\n",
      "10\n",
      "10\n",
      "10\n",
      "10\n",
      "10\n",
      "10\n",
      "10\n",
      "10\n",
      "10\n",
      "10\n",
      "10\n",
      "10\n",
      "10\n",
      "10\n",
      "10\n",
      "10\n",
      "10\n",
      "10\n",
      "10\n",
      "10\n",
      "10\n",
      "10\n",
      "10\n",
      "10\n",
      "10\n",
      "10\n",
      "10\n",
      "10\n",
      "10\n",
      "10\n",
      "10\n",
      "10\n",
      "10\n",
      "10\n",
      "10\n",
      "10\n",
      "10\n",
      "10\n",
      "10\n",
      "10\n",
      "10\n",
      "10\n",
      "10\n",
      "10\n",
      "10\n",
      "10\n",
      "10\n",
      "10\n",
      "10\n",
      "10\n",
      "10\n",
      "10\n",
      "10\n",
      "10\n",
      "10\n",
      "10\n",
      "10\n",
      "10\n",
      "10\n",
      "10\n",
      "10\n",
      "10\n",
      "10\n",
      "10\n",
      "10\n",
      "10\n",
      "10\n",
      "10\n",
      "10\n",
      "10\n",
      "10\n",
      "10\n",
      "10\n",
      "10\n",
      "10\n",
      "10\n",
      "10\n",
      "10\n",
      "10\n",
      "10\n",
      "10\n",
      "10\n",
      "10\n",
      "10\n",
      "10\n",
      "10\n",
      "10\n",
      "10\n",
      "10\n",
      "10\n",
      "10\n",
      "10\n",
      "10\n",
      "10\n",
      "10\n",
      "10\n",
      "10\n",
      "10\n",
      "10\n",
      "10\n",
      "10\n",
      "10\n",
      "10\n",
      "10\n",
      "10\n",
      "10\n",
      "10\n",
      "10\n",
      "10\n",
      "10\n",
      "10\n",
      "10\n",
      "10\n",
      "10\n",
      "10\n",
      "10\n",
      "10\n",
      "10\n",
      "10\n",
      "10\n",
      "10\n",
      "10\n",
      "10\n",
      "10\n",
      "10\n",
      "10\n",
      "10\n",
      "10\n",
      "10\n",
      "10\n",
      "10\n",
      "10\n",
      "10\n",
      "10\n",
      "10\n",
      "10\n",
      "10\n",
      "10\n",
      "10\n",
      "10\n",
      "10\n",
      "10\n",
      "10\n",
      "10\n",
      "10\n",
      "10\n",
      "10\n",
      "10\n",
      "10\n",
      "10\n",
      "10\n",
      "10\n",
      "10\n",
      "10\n",
      "10\n",
      "10\n",
      "10\n",
      "10\n",
      "10\n",
      "10\n",
      "10\n",
      "10\n",
      "10\n",
      "10\n",
      "10\n",
      "10\n",
      "10\n",
      "10\n",
      "10\n",
      "10\n",
      "10\n",
      "10\n",
      "10\n",
      "10\n",
      "10\n",
      "10\n",
      "10\n",
      "10\n",
      "10\n",
      "10\n",
      "10\n",
      "10\n",
      "10\n",
      "10\n",
      "10\n",
      "10\n",
      "10\n",
      "10\n",
      "10\n",
      "10\n",
      "10\n",
      "10\n",
      "10\n",
      "10\n",
      "10\n",
      "10\n",
      "10\n",
      "10\n"
     ]
    }
   ],
   "source": [
    "for i in range(0,50000,100):\n",
    "    hidden_layer = trained_model.init_hidden(1).to(device)\n",
    "    count = 0\n",
    "    for x in range(100):\n",
    "        count += 1\n",
    "        #print(test_data_set[i + x][0])\n",
    "        prediction = trained_model(test_data_set[x][0].unsqueeze(0).to(device), hidden_layer)\n",
    "        _, indeces = torch.max(prediction[0].data, dim=1)\n",
    "        if indeces[0].item() == test_data_set[x][1]:\n",
    "            print(count)\n",
    "            break\n",
    "            print('correct')\n",
    "        else:\n",
    "            continue\n",
    "            \n",
    "\n",
    "    \n",
    "    "
   ]
  },
  {
   "cell_type": "code",
   "execution_count": 70,
   "metadata": {},
   "outputs": [
    {
     "ename": "NameError",
     "evalue": "name 'testing_loader' is not defined",
     "output_type": "error",
     "traceback": [
      "\u001b[0;31m---------------------------------------------------------------------------\u001b[0m",
      "\u001b[0;31mNameError\u001b[0m                                 Traceback (most recent call last)",
      "\u001b[0;32m<ipython-input-70-a14d34d6b27a>\u001b[0m in \u001b[0;36m<module>\u001b[0;34m\u001b[0m\n\u001b[1;32m      3\u001b[0m \u001b[0mpercent\u001b[0m \u001b[0;34m=\u001b[0m \u001b[0;36m0\u001b[0m\u001b[0;34m\u001b[0m\u001b[0;34m\u001b[0m\u001b[0m\n\u001b[1;32m      4\u001b[0m \u001b[0mbatch_nr\u001b[0m \u001b[0;34m=\u001b[0m \u001b[0;36m1\u001b[0m\u001b[0;34m\u001b[0m\u001b[0;34m\u001b[0m\u001b[0m\n\u001b[0;32m----> 5\u001b[0;31m \u001b[0;32mwith\u001b[0m \u001b[0mtqdm\u001b[0m\u001b[0;34m(\u001b[0m\u001b[0mtotal\u001b[0m\u001b[0;34m=\u001b[0m\u001b[0mlen\u001b[0m\u001b[0;34m(\u001b[0m\u001b[0mtesting_loader\u001b[0m\u001b[0;34m)\u001b[0m\u001b[0;34m)\u001b[0m \u001b[0;32mas\u001b[0m \u001b[0mpbar\u001b[0m\u001b[0;34m:\u001b[0m\u001b[0;34m\u001b[0m\u001b[0;34m\u001b[0m\u001b[0m\n\u001b[0m\u001b[1;32m      6\u001b[0m     \u001b[0mtenp\u001b[0m \u001b[0;34m=\u001b[0m \u001b[0;36m25000\u001b[0m\u001b[0;34m\u001b[0m\u001b[0;34m\u001b[0m\u001b[0m\n\u001b[1;32m      7\u001b[0m     \u001b[0;32mfor\u001b[0m \u001b[0mbatch\u001b[0m \u001b[0;32min\u001b[0m \u001b[0mtesting_loader\u001b[0m\u001b[0;34m:\u001b[0m\u001b[0;34m\u001b[0m\u001b[0;34m\u001b[0m\u001b[0m\n",
      "\u001b[0;31mNameError\u001b[0m: name 'testing_loader' is not defined"
     ]
    }
   ],
   "source": [
    "\n",
    "correct = 0\n",
    "count = 0\n",
    "percent = 0\n",
    "batch_nr = 1\n",
    "with tqdm(total=len(testing_loader)) as pbar:\n",
    "    tenp = 25000\n",
    "    for batch in testing_loader:\n",
    "        batch_nr += 1\n",
    "        hidden_layer = trained_model.init_hidden(1).to(device)\n",
    "        for i in range(100):\n",
    "            for example in test_data_set:\n",
    "\n",
    "                prediction = trained_model(examples[0].unsqueeze(0).to(device), hidden_layer)\n",
    "                _, indeces = torch.max(prediction[0].data, dim=1)\n",
    "                characters = len(torch.nonzero(examples[0]))\n",
    "                update_stats(language_stats, indeces[0].item(), examples[1].item(), int2lang, characters)\n",
    "\n",
    "                if indeces[0].item() == examples[1].item():\n",
    "\n",
    "                    correct += 1\n",
    "                count += 1\n",
    "        break \n",
    "        pbar.update(1)\n",
    "        \n",
    "        if count % tenp == 0:\n",
    "            percent += 10\n",
    "            print('Accuracy after {}% tested: {}'.format(percent, (correct / count) * 100))\n",
    "        '''if count == 1000:\n",
    "            break'''\n",
    "        \n",
    "        \n",
    "        \n",
    "        \n",
    "    \n"
   ]
  },
  {
   "cell_type": "code",
   "execution_count": 1,
   "metadata": {},
   "outputs": [
    {
     "ename": "NameError",
     "evalue": "name 'train_data_set' is not defined",
     "output_type": "error",
     "traceback": [
      "\u001b[0;31m---------------------------------------------------------------------------\u001b[0m",
      "\u001b[0;31mNameError\u001b[0m                                 Traceback (most recent call last)",
      "\u001b[0;32m<ipython-input-1-8c7898ad4ab8>\u001b[0m in \u001b[0;36m<module>\u001b[0;34m\u001b[0m\n\u001b[0;32m----> 1\u001b[0;31m \u001b[0mlen\u001b[0m\u001b[0;34m(\u001b[0m\u001b[0mtrain_data_set\u001b[0m\u001b[0;34m)\u001b[0m\u001b[0;34m\u001b[0m\u001b[0;34m\u001b[0m\u001b[0m\n\u001b[0m",
      "\u001b[0;31mNameError\u001b[0m: name 'train_data_set' is not defined"
     ]
    }
   ],
   "source": [
    "len(train_data_set)"
   ]
  },
  {
   "cell_type": "code",
   "execution_count": 2,
   "metadata": {},
   "outputs": [],
   "source": [
    "for a in range(0,50000,100):\n",
    "    \n",
    "    '''for i in range(100):\n",
    "        while correct != True:\n",
    "        for i in range(100):\n",
    "            prediction = trained_model(examples[0].unsqueeze(0).to(device), hidden_layer)\n",
    "            _, indeces = torch.max(prediction[0].data, dim=1)\n",
    "            characters = len(torch.nonzero(examples[0]))\n",
    "            update_stats(language_stats, indeces[0].item(), examples[1].item(), int2lang, characters)\n",
    "\n",
    "            if indeces[0].item() == examples[1].item():\n",
    "                    correct += 1\n",
    "            if a == 6:\n",
    "                correct = True\n",
    "                break\n",
    "            else:\n",
    "                correct = False\n",
    "                continue'''\n",
    "       \n",
    "        "
   ]
  },
  {
   "cell_type": "code",
   "execution_count": 70,
   "metadata": {},
   "outputs": [
    {
     "data": {
      "text/plain": [
       "{'English': {'total guesses': 0,\n",
       "  'correct guesses': 0,\n",
       "  'incorrect guesses': 0,\n",
       "  'language guessed': [],\n",
       "  'number of characters': []},\n",
       " 'Belarusian (Taraschkewiza)': {'total guesses': 0,\n",
       "  'correct guesses': 0,\n",
       "  'incorrect guesses': 0,\n",
       "  'language guessed': [],\n",
       "  'number of characters': []},\n",
       " 'Karachay-Balkar': {'total guesses': 0,\n",
       "  'correct guesses': 0,\n",
       "  'incorrect guesses': 0,\n",
       "  'language guessed': [],\n",
       "  'number of characters': []},\n",
       " 'Maithili': {'total guesses': 1,\n",
       "  'correct guesses': 1,\n",
       "  'incorrect guesses': 0,\n",
       "  'language guessed': [3],\n",
       "  'number of characters': [2]},\n",
       " 'Bokmål': {'total guesses': 0,\n",
       "  'correct guesses': 0,\n",
       "  'incorrect guesses': 0,\n",
       "  'language guessed': [],\n",
       "  'number of characters': []},\n",
       " 'Western Panjabi': {'total guesses': 1,\n",
       "  'correct guesses': 1,\n",
       "  'incorrect guesses': 0,\n",
       "  'language guessed': [5],\n",
       "  'number of characters': [23]},\n",
       " 'Sardinian': {'total guesses': 0,\n",
       "  'correct guesses': 0,\n",
       "  'incorrect guesses': 0,\n",
       "  'language guessed': [],\n",
       "  'number of characters': []},\n",
       " 'Tetum': {'total guesses': 0,\n",
       "  'correct guesses': 0,\n",
       "  'incorrect guesses': 0,\n",
       "  'language guessed': [],\n",
       "  'number of characters': []},\n",
       " 'Thai': {'total guesses': 0,\n",
       "  'correct guesses': 0,\n",
       "  'incorrect guesses': 0,\n",
       "  'language guessed': [],\n",
       "  'number of characters': []},\n",
       " 'Xhosa': {'total guesses': 0,\n",
       "  'correct guesses': 0,\n",
       "  'incorrect guesses': 0,\n",
       "  'language guessed': [],\n",
       "  'number of characters': []},\n",
       " 'total stats': {'num correct': 2,\n",
       "  'num incorrect': 0,\n",
       "  'total predictions': 2,\n",
       "  'accuracy': 100.0}}"
      ]
     },
     "execution_count": 70,
     "metadata": {},
     "output_type": "execute_result"
    }
   ],
   "source": [
    "language_stats"
   ]
  },
  {
   "cell_type": "code",
   "execution_count": 45,
   "metadata": {},
   "outputs": [],
   "source": [
    "languages = [i[0] for i in language_names]"
   ]
  },
  {
   "cell_type": "code",
   "execution_count": 46,
   "metadata": {},
   "outputs": [
    {
     "ename": "NameError",
     "evalue": "name 'language_stats' is not defined",
     "output_type": "error",
     "traceback": [
      "\u001b[0;31m---------------------------------------------------------------------------\u001b[0m",
      "\u001b[0;31mNameError\u001b[0m                                 Traceback (most recent call last)",
      "\u001b[0;32m<ipython-input-46-f755dd1853a3>\u001b[0m in \u001b[0;36m<module>\u001b[0;34m\u001b[0m\n\u001b[1;32m      1\u001b[0m \u001b[0;32mwith\u001b[0m \u001b[0mopen\u001b[0m\u001b[0;34m(\u001b[0m\u001b[0;34m'results.pickle'\u001b[0m\u001b[0;34m,\u001b[0m \u001b[0;34m'wb'\u001b[0m\u001b[0;34m)\u001b[0m \u001b[0;32mas\u001b[0m \u001b[0mhandle\u001b[0m\u001b[0;34m:\u001b[0m\u001b[0;34m\u001b[0m\u001b[0;34m\u001b[0m\u001b[0m\n\u001b[0;32m----> 2\u001b[0;31m     \u001b[0mpickle\u001b[0m\u001b[0;34m.\u001b[0m\u001b[0mdump\u001b[0m\u001b[0;34m(\u001b[0m\u001b[0mlanguage_stats\u001b[0m\u001b[0;34m,\u001b[0m \u001b[0mhandle\u001b[0m\u001b[0;34m,\u001b[0m \u001b[0mprotocol\u001b[0m\u001b[0;34m=\u001b[0m\u001b[0mpickle\u001b[0m\u001b[0;34m.\u001b[0m\u001b[0mHIGHEST_PROTOCOL\u001b[0m\u001b[0;34m)\u001b[0m\u001b[0;34m\u001b[0m\u001b[0;34m\u001b[0m\u001b[0m\n\u001b[0m",
      "\u001b[0;31mNameError\u001b[0m: name 'language_stats' is not defined"
     ]
    }
   ],
   "source": [
    "with open('results.pickle', 'wb') as handle:\n",
    "    pickle.dump(language_stats, handle, protocol=pickle.HIGHEST_PROTOCOL)"
   ]
  },
  {
   "cell_type": "code",
   "execution_count": 47,
   "metadata": {},
   "outputs": [],
   "source": [
    "from collections import Counter"
   ]
  },
  {
   "cell_type": "code",
   "execution_count": 48,
   "metadata": {},
   "outputs": [],
   "source": [
    "language_names_dict = {i[1] : i[0] for i in language_names}"
   ]
  },
  {
   "cell_type": "code",
   "execution_count": null,
   "metadata": {},
   "outputs": [],
   "source": [
    "def further_analysis(language_stats, languages,int2lang):\n",
    "    \n",
    "    for i in languages:\n",
    "        lang_guessed = []\n",
    "    \n",
    "        lang_guessed = dict(Counter([int2lang[x] for x in language_stats[i]['language guessed']]))\n",
    "        x = [(value,key) for key, value in lang_guessed.items()]\n",
    "        sec_max = sorted(x)[-2][1]\n",
    "        las = sorted(x)[0][1]\n",
    "        num_char = language_stats[i][num_characters]\n",
    "        avg_char = round(sum(num_char) / len(num_char))\n",
    "        print(len(num_char))\n",
    "        print('Language: {}'.format(i))\n",
    "        print('Total guesses: {}'.format(language_stats[i]['total guesses']))\n",
    "        print('Total correct: {}'.format(language_stats[i]['correct guesses']))\n",
    "        print('Total accuracy for {}: {}%'.format(i,str(round(language_stats[i]['correct guesses']/ language_stats[i]['total guesses'] * 100,2))))\n",
    "        print('Languages Guessed: {}'.format(dict(Counter(lang_guessed))))\n",
    "        print('Most incorrectly guessed: {}'.format(sec_max))\n",
    "        print('Least incorrectly guessed: {}'.format(las))\n",
    "        print('Average characters until correct guess: {}'.format(avg_char))\n",
    "        print('\\n')\n",
    "        '''data = {'language'      : i, \n",
    "                'total_guesses' : language_stats[i]['total guesses'],\n",
    "                'total_correct' : language_stats[i]['correct guesses'],\n",
    "                'accuracy'      :  str(round(language_stats[i]['correct guesses']/ language_stats[i]['total guesses'] * 100,2)),\n",
    "                'languages_guessed' : dict(Counter(lang_guessed))}'''\n",
    "        "
   ]
  },
  {
   "cell_type": "code",
   "execution_count": null,
   "metadata": {},
   "outputs": [],
   "source": [
    "further_analysis(language_stats, languages, int2lang)"
   ]
  },
  {
   "cell_type": "code",
   "execution_count": null,
   "metadata": {},
   "outputs": [],
   "source": [
    "language_names_dict\n",
    "num_lan_name = language_names_dict.values()"
   ]
  },
  {
   "cell_type": "code",
   "execution_count": null,
   "metadata": {},
   "outputs": [],
   "source": [
    "int2lang = dict(enumerate(num_lan_name))"
   ]
  },
  {
   "cell_type": "code",
   "execution_count": null,
   "metadata": {},
   "outputs": [],
   "source": []
  },
  {
   "cell_type": "code",
   "execution_count": null,
   "metadata": {},
   "outputs": [],
   "source": []
  }
 ],
 "metadata": {
  "kernelspec": {
   "display_name": "Python 3",
   "language": "python",
   "name": "python3"
  },
  "language_info": {
   "codemirror_mode": {
    "name": "ipython",
    "version": 3
   },
   "file_extension": ".py",
   "mimetype": "text/x-python",
   "name": "python",
   "nbconvert_exporter": "python",
   "pygments_lexer": "ipython3",
   "version": "3.7.4"
  }
 },
 "nbformat": 4,
 "nbformat_minor": 2
}
